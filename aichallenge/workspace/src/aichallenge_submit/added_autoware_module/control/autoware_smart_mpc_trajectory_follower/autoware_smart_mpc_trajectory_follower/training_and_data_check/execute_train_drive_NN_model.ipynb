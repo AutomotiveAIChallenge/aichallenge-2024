{
 "cells": [
  {
   "cell_type": "code",
   "execution_count": null,
   "id": "c445f7e1-6d75-405d-be86-1b9c8f9eaae3",
   "metadata": {},
   "outputs": [],
   "source": [
    "# cspell: ignore kernelspec ipykernel codemirror ipython nbconvert pygments nbformat #\n",
    "import train_drive_NN_model"
   ]
  },
  {
   "cell_type": "code",
   "execution_count": 2,
   "id": "dc7aa5b8-15fa-4ad0-a776-664748a747ac",
   "metadata": {},
   "outputs": [],
   "source": [
    "model_trainer = train_drive_NN_model.train_drive_NN_model()"
   ]
  },
  {
   "cell_type": "code",
   "execution_count": null,
   "id": "6559bc06-d55d-4230-a640-e1730e333df3",
   "metadata": {},
   "outputs": [],
   "source": [
    "load_dir = #specify rosbag dir\n",
    "model_trainer.add_data_from_csv(load_dir)"
   ]
  },
  {
   "cell_type": "code",
   "execution_count": null,
   "id": "bdcd80a2-6484-4957-a34c-3ed193cc10e2",
   "metadata": {},
   "outputs": [],
   "source": [
    "model_trainer.get_trained_model(use_polynomial_reg=False)"
   ]
  },
  {
   "cell_type": "code",
   "execution_count": null,
   "id": "dc4c2c45-60b1-4ff7-996b-4f1f60305f97",
   "metadata": {},
   "outputs": [],
   "source": [
    "model_trainer.save_models()"
   ]
  }
 ],
 "metadata": {
  "kernelspec": {
   "display_name": "Python 3 (ipykernel)",
   "language": "python",
   "name": "python3"
  },
  "language_info": {
   "codemirror_mode": {
    "name": "ipython",
    "version": 3
   },
   "file_extension": ".py",
   "mimetype": "text/x-python",
   "name": "python",
   "nbconvert_exporter": "python",
   "pygments_lexer": "ipython3",
   "version": "3.10.12"
  }
 },
 "nbformat": 4,
 "nbformat_minor": 5
}
